{
 "cells": [
  {
   "cell_type": "markdown",
   "id": "ddbf22c8",
   "metadata": {},
   "source": [
    "Esercizi su liste"
   ]
  },
  {
   "cell_type": "code",
   "execution_count": null,
   "id": "dbf93887",
   "metadata": {},
   "outputs": [],
   "source": [
    "#Trovare solo i dispari\n",
    "even_odd = [5, 7, 11, 3, 2, 6, 1, 9, 8, 4, 10, 12]\n",
    "\n",
    "odd = [x for x in even_odd if x % 2 == 1 ]\n",
    "print(odd)"
   ]
  },
  {
   "cell_type": "code",
   "execution_count": null,
   "id": "5a6862c4",
   "metadata": {},
   "outputs": [],
   "source": [
    "#Valori unici\n",
    "rnd_list = [8, 9, 1, 3, 5, 2, 10, 6, 4, 7, 8, 5, 3, 7, 2, 9, 6, 10, 4]\n",
    "\n",
    "def unique_in_list(random_list):\n",
    "    temp = []\n",
    "    temp = [x for x in random_list if random_list.count(x) == 1]\n",
    "    return temp\n",
    "\n",
    "unique = unique_in_list(rnd_list) \n",
    "print(unique)"
   ]
  },
  {
   "cell_type": "markdown",
   "id": "c6d8ab9d",
   "metadata": {},
   "source": [
    "Esercizi con NumPy"
   ]
  },
  {
   "cell_type": "code",
   "execution_count": null,
   "id": "a8c503cf",
   "metadata": {},
   "outputs": [],
   "source": [
    "#Normalizzazione di matrice\n",
    "import numpy as np\n",
    "matrix = np.random.random((5,5))\n",
    "print('Matrix before normalization\\n', matrix)\n",
    "m_max, m_min = matrix.max(), matrix.min()\n",
    "norm = lambda x: (x-m_min) / (m_max-m_min)\n",
    "norm_matrix = norm(matrix)\n",
    "print('Matrix after normalization\\n', norm_matrix)"
   ]
  },
  {
   "cell_type": "code",
   "execution_count": null,
   "id": "1211aaed",
   "metadata": {},
   "outputs": [],
   "source": [
    "#Prodotto matriciale\n",
    "import numpy as np\n",
    "x = np.random.random((3,5))\n",
    "x_t = np.transpose(x)\n",
    "print('First matrix\\n', x_t)\n",
    "y = np.random.random((2,3))\n",
    "y_t = np.transpose(y)\n",
    "print('Second matrix\\n', y_t)\n",
    "z = np.matmul(x_t, y_t)\n",
    "print('Product\\n', z)"
   ]
  }
 ],
 "metadata": {
  "kernelspec": {
   "display_name": "Python 3 (ipykernel)",
   "language": "python",
   "name": "python3"
  },
  "language_info": {
   "codemirror_mode": {
    "name": "ipython",
    "version": 3
   },
   "file_extension": ".py",
   "mimetype": "text/x-python",
   "name": "python",
   "nbconvert_exporter": "python",
   "pygments_lexer": "ipython3",
   "version": "3.11.3"
  }
 },
 "nbformat": 4,
 "nbformat_minor": 5
}
