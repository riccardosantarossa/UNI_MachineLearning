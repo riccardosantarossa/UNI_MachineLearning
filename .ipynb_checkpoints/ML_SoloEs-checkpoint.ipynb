{
 "cells": [
  {
   "cell_type": "markdown",
   "id": "ddbf22c8",
   "metadata": {},
   "source": [
    "Esercizi su liste"
   ]
  },
  {
   "cell_type": "code",
   "execution_count": 1,
   "id": "dbf93887",
   "metadata": {},
   "outputs": [
    {
     "name": "stdout",
     "output_type": "stream",
     "text": [
      "[5, 7, 11, 3, 1, 9]\n"
     ]
    }
   ],
   "source": [
    "#Trovare solo i dispari\n",
    "even_odd = [5, 7, 11, 3, 2, 6, 1, 9, 8, 4, 10, 12]\n",
    "\n",
    "odd = [x for x in even_odd if x % 2 == 1 ]\n",
    "print(odd)"
   ]
  },
  {
   "cell_type": "code",
   "execution_count": 1,
   "id": "5a6862c4",
   "metadata": {
    "scrolled": true
   },
   "outputs": [
    {
     "name": "stdout",
     "output_type": "stream",
     "text": [
      "[1]\n"
     ]
    }
   ],
   "source": [
    "#Valori unici\n",
    "rnd_list = [8, 9, 1, 3, 5, 2, 10, 6, 4, 7, 8, 5, 3, 7, 2, 9, 6, 10, 4]\n",
    "\n",
    "def unique_in_list(random_list):\n",
    "    temp = []\n",
    "    temp = [x for x in random_list if random_list.count(x) == 1]\n",
    "    return temp\n",
    "\n",
    "unique = unique_in_list(rnd_list) \n",
    "print(unique)"
   ]
  },
  {
   "cell_type": "markdown",
   "id": "c6d8ab9d",
   "metadata": {},
   "source": [
    "Esercizi con NumPy"
   ]
  },
  {
   "cell_type": "code",
   "execution_count": 8,
   "id": "a8c503cf",
   "metadata": {},
   "outputs": [
    {
     "name": "stdout",
     "output_type": "stream",
     "text": [
      "Matrix before normalization\n",
      " [[638 430 595 342  99]\n",
      " [785 740 153 860 175]\n",
      " [405 283 412  78 391]\n",
      " [637  24  34 181 710]\n",
      " [781 707 390 441 198]]\n",
      "Matrix after normalization\n",
      " [[0.73444976 0.48564593 0.68301435 0.38038278 0.08971292]\n",
      " [0.91028708 0.85645933 0.15430622 1.         0.18062201]\n",
      " [0.45574163 0.30980861 0.46411483 0.0645933  0.43899522]\n",
      " [0.73325359 0.         0.01196172 0.18779904 0.82057416]\n",
      " [0.90550239 0.81698565 0.43779904 0.49880383 0.20813397]]\n"
     ]
    }
   ],
   "source": [
    "#Normalizzazione di matrice\n",
    "import numpy as np\n",
    "matrix = np.random.randint(0, 1000, (5,5))\n",
    "print('Matrix before normalization\\n', matrix)\n",
    "m_max, m_min = matrix.max(), matrix.min()\n",
    "norm = lambda x: (x-m_min) / (m_max-m_min)\n",
    "norm_matrix = norm(matrix)\n",
    "print('Matrix after normalization\\n', norm_matrix)"
   ]
  },
  {
   "cell_type": "code",
   "execution_count": 12,
   "id": "1211aaed",
   "metadata": {},
   "outputs": [
    {
     "name": "stdout",
     "output_type": "stream",
     "text": [
      "First matrix\n",
      " [[2 4 6]\n",
      " [4 8 4]\n",
      " [8 5 4]\n",
      " [1 1 6]\n",
      " [1 6 4]]\n",
      "Second matrix\n",
      " [[5 2]\n",
      " [7 4]\n",
      " [1 0]]\n",
      "Product\n",
      " [[44 20]\n",
      " [80 40]\n",
      " [79 36]\n",
      " [18  6]\n",
      " [51 26]]\n"
     ]
    }
   ],
   "source": [
    "#Prodotto matriciale\n",
    "import numpy as np\n",
    "x = np.random.randint(0, 10, (3,5))\n",
    "x_t = np.transpose(x)\n",
    "print('First matrix\\n', x_t)\n",
    "y = np.random.randint(0, 10, (2,3))\n",
    "y_t = np.transpose(y)\n",
    "print('Second matrix\\n', y_t)\n",
    "z = np.matmul(x_t, y_t)\n",
    "print('Product\\n', z)"
   ]
  }
 ],
 "metadata": {
  "kernelspec": {
   "display_name": "Python 3 (ipykernel)",
   "language": "python",
   "name": "python3"
  },
  "language_info": {
   "codemirror_mode": {
    "name": "ipython",
    "version": 3
   },
   "file_extension": ".py",
   "mimetype": "text/x-python",
   "name": "python",
   "nbconvert_exporter": "python",
   "pygments_lexer": "ipython3",
   "version": "3.10.11"
  }
 },
 "nbformat": 4,
 "nbformat_minor": 5
}
